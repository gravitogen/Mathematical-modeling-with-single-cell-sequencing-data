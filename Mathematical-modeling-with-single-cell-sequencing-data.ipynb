{
 "cells": [
  {
   "cell_type": "markdown",
   "metadata": {},
   "source": [
    "### PDF model of HSC differentiation on continuum cell state space \n",
    "Inputs:\n",
    "   T: final time \n",
    "   ntest: choose single-cell data set \n",
    "        = 0 - Nestorowa data / 1 - Paul data \n",
    "   nAML : choose AML condition \n",
    "        = INF - normal condition / integer number - AML condition at nAML "
   ]
  },
  {
   "cell_type": "markdown",
   "metadata": {},
   "source": [
    "###### Load scRNA-seq data "
   ]
  },
  {
   "cell_type": "code",
   "execution_count": 21,
   "metadata": {
    "scrolled": true
   },
   "outputs": [],
   "source": [
    "filename = 'Nestorowa2016_scRNAseqData.mat'; \n",
    "load( filename ); \n",
    "ntest = 0; "
   ]
  },
  {
   "cell_type": "markdown",
   "metadata": {},
   "source": [
    "###### Dimension Reduction "
   ]
  },
  {
   "cell_type": "code",
   "execution_count": 22,
   "metadata": {},
   "outputs": [],
   "source": [
    "[dc, dcSig] = DiffusionMap_wNewData( data', [], 20, 0.5, Inf );\n",
    "dc = dc_normalize(dc, 20);    % Normalize Diffusion Component to [0 1]\n",
    "save( filename, 'dc', 'dcSig' ,'-append' ) "
   ]
  },
  {
   "cell_type": "markdown",
   "metadata": {},
   "source": [
    "###### PDE grid and differentiation matrix "
   ]
  },
  {
   "cell_type": "code",
   "execution_count": 23,
   "metadata": {},
   "outputs": [],
   "source": [
    "N = [100 125]; \n",
    "Compute_systemMatrix( N ); "
   ]
  },
  {
   "cell_type": "markdown",
   "metadata": {},
   "source": [
    "###### Compute homeostasis distribution "
   ]
  },
  {
   "cell_type": "code",
   "execution_count": 24,
   "metadata": {},
   "outputs": [],
   "source": [
    "global N1 dx xx yy \n",
    "[YY,XX] = meshgrid(yy,xx); \n",
    "[uHS,~,~] = ksdensity( [dc(:,1:2)], [XX(:),YY(:)], 'bandwidth', [0.03 0.03] );\n",
    "uHS = reshape( uHS, N1(1), N1(2) ); "
   ]
  },
  {
   "cell_type": "markdown",
   "metadata": {},
   "source": [
    "###### Compute PDE coefficients by Interpolation "
   ]
  },
  {
   "cell_type": "code",
   "execution_count": 25,
   "metadata": {},
   "outputs": [
    {
     "name": "stderr",
     "output_type": "stream",
     "text": [
      "\u001b[0;31mError using cluster (line 57)\n",
      "Not enough input arguments.\n",
      "\n",
      "Error in PrePocess_Nestorowa (line 5)\n",
      "cellind = cluster; cellind( cellind == 9 ) = 2; \n",
      "\n",
      "Error in Compute_systemCoeff (line 5)\n",
      "    [cRct, cAdv, cDth, cA] = PrePocess_Nestorowa(uhmsts);\n",
      "\n",
      "\u001b[0m"
     ]
    }
   ],
   "source": [
    "Compute_systemCoeff( ntest, uHS ); "
   ]
  },
  {
   "cell_type": "markdown",
   "metadata": {},
   "source": [
    "###### Solve PDE in Normal condition "
   ]
  },
  {
   "cell_type": "code",
   "execution_count": null,
   "metadata": {},
   "outputs": [],
   "source": [
    "% Set Initial Condition \n",
    "% Solve PDE with RK "
   ]
  },
  {
   "cell_type": "code",
   "execution_count": null,
   "metadata": {},
   "outputs": [],
   "source": [
    "uinit = IC_2Dsp( 0.1, uHS*0.05, ntest ); \n",
    "uinit = BC_2Dsp( uinit );\n",
    "Time_Integ_RK4( @Compute_du_2Dsp, @BC_2Dsp, uinit, T, dt, Tstep ) "
   ]
  },
  {
   "cell_type": "markdown",
   "metadata": {},
   "source": [
    "###### Solve PDE in AML condition - 1"
   ]
  },
  {
   "cell_type": "code",
   "execution_count": null,
   "metadata": {},
   "outputs": [],
   "source": []
  },
  {
   "cell_type": "markdown",
   "metadata": {},
   "source": [
    "###### Solve PDE in AML condition - 2"
   ]
  },
  {
   "cell_type": "code",
   "execution_count": null,
   "metadata": {},
   "outputs": [],
   "source": []
  },
  {
   "cell_type": "code",
   "execution_count": null,
   "metadata": {},
   "outputs": [],
   "source": []
  }
 ],
 "metadata": {
  "kernelspec": {
   "display_name": "Matlab",
   "language": "matlab",
   "name": "matlab"
  },
  "language_info": {
   "codemirror_mode": "octave",
   "file_extension": ".m",
   "help_links": [
    {
     "text": "MetaKernel Magics",
     "url": "https://metakernel.readthedocs.io/en/latest/source/README.html"
    }
   ],
   "mimetype": "text/x-octave",
   "name": "matlab",
   "version": "0.16.7"
  }
 },
 "nbformat": 4,
 "nbformat_minor": 2
}
